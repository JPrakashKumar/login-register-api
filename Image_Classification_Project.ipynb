{
  "nbformat": 4,
  "nbformat_minor": 0,
  "metadata": {
    "colab": {
      "name": "Untitled2.ipynb",
      "provenance": [],
      "authorship_tag": "ABX9TyNehjAxXtBanWWPHI2pBHck",
      "include_colab_link": true
    },
    "kernelspec": {
      "name": "python3",
      "display_name": "Python 3"
    },
    "language_info": {
      "name": "python"
    }
  },
  "cells": [
    {
      "cell_type": "markdown",
      "metadata": {
        "id": "view-in-github",
        "colab_type": "text"
      },
      "source": [
        "<a href=\"https://colab.research.google.com/github/JPrakashKumar/login-register-api/blob/main/Image_Classification_Project.ipynb\" target=\"_parent\"><img src=\"https://colab.research.google.com/assets/colab-badge.svg\" alt=\"Open In Colab\"/></a>"
      ]
    },
    {
      "cell_type": "code",
      "execution_count": 1,
      "metadata": {
        "colab": {
          "base_uri": "https://localhost:8080/"
        },
        "id": "77jHwTI4PiXV",
        "outputId": "5b8f1100-d6dc-4854-bdf5-187b0bfe89c1"
      },
      "outputs": [
        {
          "output_type": "stream",
          "name": "stdout",
          "text": [
            "Collecting bing-image-downloader\n",
            "  Downloading bing_image_downloader-1.1.2-py3-none-any.whl (5.9 kB)\n",
            "Installing collected packages: bing-image-downloader\n",
            "Successfully installed bing-image-downloader-1.1.2\n"
          ]
        }
      ],
      "source": [
        "!pip install bing-image-downloader"
      ]
    },
    {
      "cell_type": "code",
      "source": [
        "!mkdir images"
      ],
      "metadata": {
        "id": "I2sfxeXwPwWJ"
      },
      "execution_count": 2,
      "outputs": []
    },
    {
      "cell_type": "code",
      "source": [
        "from bing_image_downloader import downloader"
      ],
      "metadata": {
        "id": "yFTbFnM1P4Ye"
      },
      "execution_count": 3,
      "outputs": []
    },
    {
      "cell_type": "code",
      "source": [
        "downloader.download(\"pretty sunflower\", limit=30, output_dir='images', adult_filter_off= True)"
      ],
      "metadata": {
        "colab": {
          "base_uri": "https://localhost:8080/"
        },
        "id": "gVrv95qaQDR9",
        "outputId": "fb04d672-260e-44e8-e5ab-e75b2e47a7c9"
      },
      "execution_count": 4,
      "outputs": [
        {
          "output_type": "stream",
          "name": "stdout",
          "text": [
            "[%] Downloading Images to /content/images/pretty sunflower\n",
            "\n",
            "\n",
            "[!!]Indexing page: 1\n",
            "\n",
            "[%] Indexed 17 Images on Page 1.\n",
            "\n",
            "===============================================\n",
            "\n",
            "[%] Downloading Image #1 from https://c2.staticflickr.com/2/1413/1126668188_69fe9a68a2_z.jpg?zz=1\n",
            "[%] File Downloaded !\n",
            "\n",
            "[%] Downloading Image #2 from https://i.pinimg.com/originals/81/ed/89/81ed89fdcb0183126925eb121379bd68.jpg\n",
            "[%] File Downloaded !\n",
            "\n",
            "[%] Downloading Image #3 from https://i.pinimg.com/236x/a0/cf/cf/a0cfcf63a579f90f9dd18f15e4bd070e--sun-flowers-pretty-flowers.jpg\n",
            "[%] File Downloaded !\n",
            "\n",
            "[%] Downloading Image #4 from https://www.wallpapers13.com/wp-content/uploads/2015/12/Sunflower-field-wallpaper-015-1024x768.jpg\n",
            "[%] File Downloaded !\n",
            "\n",
            "[%] Downloading Image #5 from https://i.pinimg.com/736x/b7/51/15/b75115d17e453ba8030b88958a43b5fc.jpg\n",
            "[%] File Downloaded !\n",
            "\n",
            "[%] Downloading Image #6 from http://2.bp.blogspot.com/-9roLPHd1lWs/UAIrpvI_PiI/AAAAAAAAE1Y/c6eLx2BVcWs/s1600/SUN6.JPG\n",
            "[%] File Downloaded !\n",
            "\n",
            "[%] Downloading Image #7 from http://www.babyshowerideas4u.com/wp-content/uploads/2014/03/turquoise-and-yellow-baby-shower-via-babyshowerideas4u.com-sunflower.jpg\n",
            "[%] File Downloaded !\n",
            "\n",
            "[%] Downloading Image #8 from https://wallup.net/wp-content/uploads/2019/09/550224-flower-nature-plant-beautiful-colorful-flowers.jpg\n",
            "[%] File Downloaded !\n",
            "\n",
            "[%] Downloading Image #9 from https://i.pinimg.com/736x/d6/29/36/d629361478b7b4901d84d33b7105384a.jpg\n",
            "[%] File Downloaded !\n",
            "\n",
            "[%] Downloading Image #10 from http://media-cache-ak0.pinimg.com/736x/46/4b/47/464b47795d9ab31ed38b0b77e9cde6b4.jpg\n",
            "[%] File Downloaded !\n",
            "\n",
            "[%] Downloading Image #11 from https://2.bp.blogspot.com/_IpS_80N8NQ0/TDQHc4nwVNI/AAAAAAAAAZc/kGGS-tUODZs/s1600/sunflower2.jpg\n",
            "[%] File Downloaded !\n",
            "\n",
            "[%] Downloading Image #12 from https://img.thrfun.com/img/011/747/sunflowers_l.jpg\n",
            "[%] File Downloaded !\n",
            "\n",
            "[%] Downloading Image #13 from http://ohbestdayever.com/wp-content/uploads/2017/12/rustic-sunflower-wedding-centerpiece-with-mason-jar.jpg\n",
            "[%] File Downloaded !\n",
            "\n",
            "[%] Downloading Image #14 from https://i.pinimg.com/736x/c9/2b/80/c92b8008b1f72760f8fe02c502f695fd--sun-flowers-pretty-flowers.jpg\n",
            "[%] File Downloaded !\n",
            "\n",
            "[%] Downloading Image #15 from https://myphotobasket.com/wp-content/uploads/2021/01/Sunflower-HD-1039-31012021-1920x1080-1.jpg\n",
            "[%] File Downloaded !\n",
            "\n",
            "[%] Downloading Image #16 from https://live.staticflickr.com/5688/21851849233_e1c2d4e009_b.jpg\n",
            "[%] File Downloaded !\n",
            "\n",
            "[%] Downloading Image #17 from https://ohbestdayever.com/wp-content/uploads/2017/12/rustic-sunflower-wedding-centerpiece-ideas-with-mason-jars.jpg\n",
            "[%] File Downloaded !\n",
            "\n",
            "\n",
            "\n",
            "[!!]Indexing page: 2\n",
            "\n",
            "[%] Indexed 17 Images on Page 2.\n",
            "\n",
            "===============================================\n",
            "\n",
            "\n",
            "\n",
            "[!!]Indexing page: 3\n",
            "\n",
            "[%] Indexed 16 Images on Page 3.\n",
            "\n",
            "===============================================\n",
            "\n",
            "\n",
            "\n",
            "[!!]Indexing page: 4\n",
            "\n",
            "[%] Indexed 15 Images on Page 4.\n",
            "\n",
            "===============================================\n",
            "\n",
            "\n",
            "\n",
            "[!!]Indexing page: 5\n",
            "\n",
            "[%] Indexed 14 Images on Page 5.\n",
            "\n",
            "===============================================\n",
            "\n",
            "\n",
            "\n",
            "[!!]Indexing page: 6\n",
            "\n",
            "[%] Indexed 13 Images on Page 6.\n",
            "\n",
            "===============================================\n",
            "\n",
            "\n",
            "\n",
            "[!!]Indexing page: 7\n",
            "\n",
            "[%] Indexed 23 Images on Page 7.\n",
            "\n",
            "===============================================\n",
            "\n",
            "[%] Downloading Image #18 from https://i.pinimg.com/736x/81/ed/89/81ed89fdcb0183126925eb121379bd68.jpg\n",
            "[%] File Downloaded !\n",
            "\n",
            "[%] Downloading Image #19 from https://m.media-amazon.com/images/I/71b4CpSFdvL._AC_SS450_.jpg\n",
            "[%] File Downloaded !\n",
            "\n",
            "[%] Downloading Image #20 from https://di2ponv0v5otw.cloudfront.net/posts/2022/04/14/6258998345d7312c9b78c574/s_6258998693649fe1e9233469.jpg\n",
            "[%] File Downloaded !\n",
            "\n",
            "[%] Downloading Image #21 from https://i.pinimg.com/236x/18/bd/b1/18bdb17f634d37070c8bf9b527b5f92d--sun-flowers-pretty-flowers.jpg\n",
            "[%] File Downloaded !\n",
            "\n",
            "[%] Downloading Image #22 from http://3.bp.blogspot.com/-HwJUNp_kUoM/TdfULTLD9NI/AAAAAAAADlA/OAKrm6DrbuQ/s1600/sunflower5.jpg\n",
            "[%] File Downloaded !\n",
            "\n",
            "[%] Downloading Image #23 from https://i.pinimg.com/474x/a0/cf/cf/a0cfcf63a579f90f9dd18f15e4bd070e--sun-flowers-pretty-flowers.jpg\n",
            "[%] File Downloaded !\n",
            "\n",
            "[%] Downloading Image #24 from https://m.media-amazon.com/images/I/71b4CpSFdvL._AC_SY355_.jpg\n",
            "[%] File Downloaded !\n",
            "\n",
            "[%] Downloading Image #25 from https://2.bp.blogspot.com/-px95yXUAA1A/UjR86jiGvGI/AAAAAAAACeo/Gis5KQPR--I/s1600/sunflowers.png\n",
            "[%] File Downloaded !\n",
            "\n",
            "[%] Downloading Image #26 from https://www.picclickimg.com/G7gAAOSw5udfrn41/SUNFLOWERBlack-Oil-240-Seeds-SALE-PrettyBrightFun-Instructions-Inc.jpg\n",
            "[%] File Downloaded !\n",
            "\n",
            "[%] Downloading Image #27 from https://pic.cakesdecor.com/m/x8vcmmfau4vlesg3js9v.jpg\n",
            "[Error]Invalid image, not saving https://pic.cakesdecor.com/m/x8vcmmfau4vlesg3js9v.jpg\n",
            "\n",
            "[!] Issue getting: https://pic.cakesdecor.com/m/x8vcmmfau4vlesg3js9v.jpg\n",
            "[!] Error:: Invalid image, not saving https://pic.cakesdecor.com/m/x8vcmmfau4vlesg3js9v.jpg\n",
            "\n",
            "[%] Downloading Image #27 from https://i.pinimg.com/236x/3e/85/f6/3e85f60ea7827aa345b18000168708c7.jpg\n",
            "[%] File Downloaded !\n",
            "\n",
            "[%] Downloading Image #28 from http://s9.favim.com/orig/131118/flower-pretty-sunflower-vintage-Favim.com-1073653.jpg\n",
            "[%] File Downloaded !\n",
            "\n",
            "[%] Downloading Image #29 from https://cdn.shopify.com/s/files/1/0580/7957/6249/products/Jesuscanvas_Canvasprint_Canvaswallart_canvasart_wallartprints_canvaspictures_customcanvasprints_customcanvas_wallcanvas_largecanvasprints_24x36canvas_32x48canvas2_18c862d1-1bc9-4c2f-9cd9-64ebd37add15_1200x.jpg?v=1649154153\n",
            "[%] File Downloaded !\n",
            "\n",
            "[%] Downloading Image #30 from https://www.picclickimg.com/d/l400/pict/393311835951_/SUNFLOWER🌻Black-Oil-😊-240-Seeds-SALE-PrettyBrightFun-Instructions-Inc.jpg\n",
            "[!] Issue getting: https://www.picclickimg.com/d/l400/pict/393311835951_/SUNFLOWER🌻Black-Oil-😊-240-Seeds-SALE-PrettyBrightFun-Instructions-Inc.jpg\n",
            "[!] Error:: 'ascii' codec can't encode character '\\U0001f33b' in position 40: ordinal not in range(128)\n",
            "[%] Downloading Image #30 from http://pinteresting.involvery.com/wp-content/uploads/sites/15/2016/10/1252_1883327114-1.jpg\n",
            "[%] File Downloaded !\n",
            "\n",
            "\n",
            "\n",
            "[%] Done. Downloaded 30 images.\n"
          ]
        }
      ]
    },
    {
      "cell_type": "code",
      "source": [
        "downloader.download(\"cricket ball\", limit=30, output_dir='images', adult_filter_off= True)\n"
      ],
      "metadata": {
        "colab": {
          "base_uri": "https://localhost:8080/"
        },
        "id": "vvRbeMeGQcGA",
        "outputId": "47c33471-f582-4b5d-94f1-851545321eaa"
      },
      "execution_count": 5,
      "outputs": [
        {
          "output_type": "stream",
          "name": "stdout",
          "text": [
            "[%] Downloading Images to /content/images/cricket ball\n",
            "\n",
            "\n",
            "[!!]Indexing page: 1\n",
            "\n",
            "[%] Indexed 30 Images on Page 1.\n",
            "\n",
            "===============================================\n",
            "\n",
            "[%] Downloading Image #1 from http://2.bp.blogspot.com/_yVdLNzV-R5s/TI66olgnu6I/AAAAAAAABIo/Ws3oAlsI0Wk/s1600/cricket-ball-shiju.jpg\n",
            "[%] File Downloaded !\n",
            "\n",
            "[%] Downloading Image #2 from https://wallpaperpure.net/wp-content/uploads/2018/07/f609ded9bbaee2bfef0bef23580b1bc6.jpeg\n",
            "[%] File Downloaded !\n",
            "\n",
            "[%] Downloading Image #3 from https://icdn.fanatix.com/wp-content/uploads/2014/01/Cricket-ball.jpg\n",
            "[%] File Downloaded !\n",
            "\n",
            "[%] Downloading Image #4 from https://5.imimg.com/data5/RA/MZ/UI/SELLER-26671394/cricket-ball-500x500.jpg\n",
            "[Error]Invalid image, not saving https://5.imimg.com/data5/RA/MZ/UI/SELLER-26671394/cricket-ball-500x500.jpg\n",
            "\n",
            "[!] Issue getting: https://5.imimg.com/data5/RA/MZ/UI/SELLER-26671394/cricket-ball-500x500.jpg\n",
            "[!] Error:: Invalid image, not saving https://5.imimg.com/data5/RA/MZ/UI/SELLER-26671394/cricket-ball-500x500.jpg\n",
            "\n",
            "[%] Downloading Image #4 from https://www.sportythoughts.com/images/thumbs/0000591_cricket-ball.jpeg\n",
            "[%] File Downloaded !\n",
            "\n",
            "[%] Downloading Image #5 from https://4.imimg.com/data4/WT/VF/MY-8531375/cricket-ball-500x500.jpg\n",
            "[%] File Downloaded !\n",
            "\n",
            "[%] Downloading Image #6 from https://goldwallpapers.com/uploads/posts/cricket-ball-wallpaper/thumb/cricket_ball_wallpaper_010.jpg\n",
            "[%] File Downloaded !\n",
            "\n",
            "[%] Downloading Image #7 from https://www.cricketmerchant.com/website_cm/static/src/img/ball.jpg\n",
            "[%] File Downloaded !\n",
            "\n",
            "[%] Downloading Image #8 from https://i0.wp.com/www.newsypad.com/wp-content/uploads/2021/10/Telenor-Answer-No.4.png?resize=1200%2C800&amp;ssl=1\n",
            "[%] File Downloaded !\n",
            "\n",
            "[%] Downloading Image #9 from https://robpostband.com/wp-content/uploads/imga-media/6024.jpg\n",
            "[%] File Downloaded !\n",
            "\n",
            "[%] Downloading Image #10 from https://m.media-amazon.com/images/I/512nbnRz4NL._SL500_.jpg\n",
            "[%] File Downloaded !\n",
            "\n",
            "[%] Downloading Image #11 from https://m.media-amazon.com/images/I/41lTMEIjB1L._SL500_.jpg\n",
            "[%] File Downloaded !\n",
            "\n",
            "[%] Downloading Image #12 from https://m.media-amazon.com/images/I/41zs3+WaR3L._SL500_.jpg\n",
            "[%] File Downloaded !\n",
            "\n",
            "[%] Downloading Image #13 from https://m.media-amazon.com/images/I/31Ehzf+ji+L._SL500_.jpg\n",
            "[%] File Downloaded !\n",
            "\n",
            "[%] Downloading Image #14 from https://m.media-amazon.com/images/I/41YafZUc4wL._SL500_.jpg\n",
            "[%] File Downloaded !\n",
            "\n",
            "[%] Downloading Image #15 from https://cdn.shopify.com/s/files/1/0756/1735/products/CRICKET_TRAINING_BALL_SET_JUNIOR_02_grande.jpg?v=1520591576\n",
            "[%] File Downloaded !\n",
            "\n",
            "[%] Downloading Image #16 from https://res.cloudinary.com/teepublic/image/private/s--d_3iwIth--/t_Resized Artwork/c_crop,x_10,y_10/c_fit,w_282/c_crop,g_north_west,h_626,w_470,x_-93,y_-93/g_north_west,u_upload:v1468361755:production:blanks:ao7fb4tfadj8v4fkmc1o,x_-488,y_-418/b_rgb:eeeeee/c_limit,f_auto,h_630,q_90,w_630/v1648937620/production/designs/29083542_0.jpg\n",
            "[!] Issue getting: https://res.cloudinary.com/teepublic/image/private/s--d_3iwIth--/t_Resized Artwork/c_crop,x_10,y_10/c_fit,w_282/c_crop,g_north_west,h_626,w_470,x_-93,y_-93/g_north_west,u_upload:v1468361755:production:blanks:ao7fb4tfadj8v4fkmc1o,x_-488,y_-418/b_rgb:eeeeee/c_limit,f_auto,h_630,q_90,w_630/v1648937620/production/designs/29083542_0.jpg\n",
            "[!] Error:: URL can't contain control characters. '/teepublic/image/private/s--d_3iwIth--/t_Resized Artwork/c_crop,x_10,y_10/c_fit,w_282/c_crop,g_north_west,h_626,w_470,x_-93,y_-93/g_north_west,u_upload:v1468361755:production:blanks:ao7fb4tfadj8v4fkmc1o,x_-488,y_-418/b_rgb:eeeeee/c_limit,f_auto,h_630,q_90,w_630/v1648937620/production/designs/29083542_0.jpg' (found at least ' ')\n",
            "[%] Downloading Image #16 from https://res.cloudinary.com/teepublic/image/private/s--XRW_eOZK--/t_Preview/b_rgb:6e2229,c_limit,f_auto,h_630,q_90,w_630/v1648937620/production/designs/29083542_0.jpg\n",
            "[%] File Downloaded !\n",
            "\n",
            "[%] Downloading Image #17 from https://5.imimg.com/data5/SELLER/Default/2022/4/KY/SU/QQ/71959645/cricket-leather-ball-1000x1000.jpeg\n",
            "[Error]Invalid image, not saving https://5.imimg.com/data5/SELLER/Default/2022/4/KY/SU/QQ/71959645/cricket-leather-ball-1000x1000.jpeg\n",
            "\n",
            "[!] Issue getting: https://5.imimg.com/data5/SELLER/Default/2022/4/KY/SU/QQ/71959645/cricket-leather-ball-1000x1000.jpeg\n",
            "[!] Error:: Invalid image, not saving https://5.imimg.com/data5/SELLER/Default/2022/4/KY/SU/QQ/71959645/cricket-leather-ball-1000x1000.jpeg\n",
            "\n",
            "[%] Downloading Image #17 from https://5.imimg.com/data5/SELLER/Default/2022/4/PF/ZN/JB/71959645/classpo-83--1000x1000.png\n",
            "[%] File Downloaded !\n",
            "\n",
            "[%] Downloading Image #18 from https://picsenglsh.englishraven.com/can-you-get-by-in-germany-with-english-only-.jpg\n",
            "[%] File Downloaded !\n",
            "\n",
            "[%] Downloading Image #19 from https://picsenglsh.englishraven.com/what-is-the-english-cricket-ball-called-.jpg\n",
            "[%] File Downloaded !\n",
            "\n",
            "[%] Downloading Image #20 from https://picsenglsh.englishraven.com/what-is-the-english-called-in-eso-.jpg\n",
            "[%] File Downloaded !\n",
            "\n",
            "[%] Downloading Image #21 from https://deemrealty.com/wp-content/uploads/imga-media/260743.jpg\n",
            "[%] File Downloaded !\n",
            "\n",
            "[%] Downloading Image #22 from https://m.media-amazon.com/images/I/310wayCXrVS._SL500_.jpg\n",
            "[%] File Downloaded !\n",
            "\n",
            "[%] Downloading Image #23 from https://media1.vurbl.com/images/upload/7uXod12WHH9/1603820155/img-2167-j1wbmsge.jpg?width=660&amp;crop=1:1\n",
            "[%] File Downloaded !\n",
            "\n",
            "[%] Downloading Image #24 from https://cdn2.vectorstock.com/i/1000x1000/34/16/flaming-cricket-ball-black-and-white-vector-41793416.jpg\n",
            "[%] File Downloaded !\n",
            "\n",
            "[%] Downloading Image #25 from https://5.imimg.com/data5/SELLER/Default/2022/4/PR/RN/OY/71959645/cricket-ball-imported-leather-1000x1000.jpeg\n",
            "[Error]Invalid image, not saving https://5.imimg.com/data5/SELLER/Default/2022/4/PR/RN/OY/71959645/cricket-ball-imported-leather-1000x1000.jpeg\n",
            "\n",
            "[!] Issue getting: https://5.imimg.com/data5/SELLER/Default/2022/4/PR/RN/OY/71959645/cricket-ball-imported-leather-1000x1000.jpeg\n",
            "[!] Error:: Invalid image, not saving https://5.imimg.com/data5/SELLER/Default/2022/4/PR/RN/OY/71959645/cricket-ball-imported-leather-1000x1000.jpeg\n",
            "\n",
            "[%] Downloading Image #25 from https://is5-ssl.mzstatic.com/image/thumb/Purple122/v4/0f/17/10/0f1710ca-8234-2f0b-46fb-5dadea9ebb6b/pr_source.jpg/1200x630wa.png\n",
            "[%] File Downloaded !\n",
            "\n",
            "[%] Downloading Image #26 from https://made-in-pakistan.com.pk/mediacen/2022/04/Custom-Detailed-Hi-Quality-White-Leather-Cricket-Match-Ball.png\n",
            "[%] File Downloaded !\n",
            "\n",
            "\n",
            "\n",
            "[!!]Indexing page: 2\n",
            "\n",
            "[%] Indexed 8 Images on Page 2.\n",
            "\n",
            "===============================================\n",
            "\n",
            "[%] Downloading Image #27 from http://afternooncrumbs.com/wp-content/uploads/2014/07/DSC_0403.jpg\n",
            "[%] File Downloaded !\n",
            "\n",
            "[%] Downloading Image #28 from https://static.vecteezy.com/system/resources/previews/000/456/418/original/vector-cricket-background.jpg\n",
            "[%] File Downloaded !\n",
            "\n",
            "[%] Downloading Image #29 from https://data1.ibtimes.co.in/en/full/565963/curtly-ambrose.jpg\n",
            "[%] File Downloaded !\n",
            "\n",
            "[%] Downloading Image #30 from https://sm.mashable.com/mashable_in/seo/default/motera-stadium-renamed-04_95m6.jpg\n",
            "[%] File Downloaded !\n",
            "\n",
            "\n",
            "\n",
            "[%] Done. Downloaded 30 images.\n"
          ]
        }
      ]
    },
    {
      "cell_type": "code",
      "source": [
        "downloader.download(\"ice cream cone\", limit=30, output_dir='images', adult_filter_off= True)\n"
      ],
      "metadata": {
        "colab": {
          "base_uri": "https://localhost:8080/"
        },
        "id": "WnjuL3SzQhqf",
        "outputId": "d2ae0930-e0a0-4ae4-8107-ef415787d2e5"
      },
      "execution_count": 6,
      "outputs": [
        {
          "output_type": "stream",
          "name": "stdout",
          "text": [
            "[%] Downloading Images to /content/images/ice cream cone\n",
            "\n",
            "\n",
            "[!!]Indexing page: 1\n",
            "\n",
            "[%] Indexed 30 Images on Page 1.\n",
            "\n",
            "===============================================\n",
            "\n",
            "[%] Downloading Image #1 from http://4.bp.blogspot.com/-24Ior6VBpsk/TbxaZXjlGyI/AAAAAAAAADg/O_gAKSrrQho/s1600/758icecream.jpg\n",
            "[%] File Downloaded !\n",
            "\n",
            "[%] Downloading Image #2 from https://okcredit-blog-images-prod.storage.googleapis.com/2021/03/Ice-Cream-Cones2--1-.jpg\n",
            "[%] File Downloaded !\n",
            "\n",
            "[%] Downloading Image #3 from https://www.procaffenation.com/wp-content/uploads/2017/04/22-1.jpg\n",
            "[Error]Invalid image, not saving https://www.procaffenation.com/wp-content/uploads/2017/04/22-1.jpg\n",
            "\n",
            "[!] Issue getting: https://www.procaffenation.com/wp-content/uploads/2017/04/22-1.jpg\n",
            "[!] Error:: Invalid image, not saving https://www.procaffenation.com/wp-content/uploads/2017/04/22-1.jpg\n",
            "\n",
            "[%] Downloading Image #3 from https://c1.staticflickr.com/1/170/448920776_1314e3f66e_b.jpg\n",
            "[%] File Downloaded !\n",
            "\n",
            "[%] Downloading Image #4 from https://image.freepik.com/free-photo/ice-cream-cone_144627-41484.jpg\n",
            "[%] File Downloaded !\n",
            "\n",
            "[%] Downloading Image #5 from https://www.alltop.com/viral/wp-content/uploads/2013/07/fotolia-ice-cream-cone-500x328.jpg\n",
            "[%] File Downloaded !\n",
            "\n",
            "[%] Downloading Image #6 from https://cdn.shopify.com/s/files/1/0192/3894/products/icecreamcone_4_large.jpg?v=1356890769\n",
            "[%] File Downloaded !\n",
            "\n",
            "[%] Downloading Image #7 from https://www.carpecity.com/wp-content/uploads/2018/10/big-gay-ice-cream-cone-600x800.jpg\n",
            "[%] File Downloaded !\n",
            "\n",
            "[%] Downloading Image #8 from https://i.ytimg.com/vi/X8LftYSp6-w/maxresdefault.jpg\n",
            "[%] File Downloaded !\n",
            "\n",
            "[%] Downloading Image #9 from https://www.frugalcouponliving.com/wp-content/uploads/2013/11/Santa-Hat-Cupcakes-recipe-FRUGAL-coupon-living.jpg\n",
            "[%] File Downloaded !\n",
            "\n",
            "[%] Downloading Image #10 from http://i.ebayimg.com/images/i/130854503340-0-1/s-l1000.jpg\n",
            "[%] File Downloaded !\n",
            "\n",
            "[%] Downloading Image #11 from https://cdn.shopify.com/s/files/1/0554/8923/3011/products/Ice-CreamCone_1445x.jpg?v=1649709080\n",
            "[%] File Downloaded !\n",
            "\n",
            "[%] Downloading Image #12 from https://owendurham.files.wordpress.com/2022/04/image-1.jpg\n",
            "[Error]Invalid image, not saving https://owendurham.files.wordpress.com/2022/04/image-1.jpg\n",
            "\n",
            "[!] Issue getting: https://owendurham.files.wordpress.com/2022/04/image-1.jpg\n",
            "[!] Error:: Invalid image, not saving https://owendurham.files.wordpress.com/2022/04/image-1.jpg\n",
            "\n",
            "[%] Downloading Image #12 from http://media.nbcmontana.com/wp-content/uploads/423577/clipart-fast-food-desserts-ice-cream-cones-soft-serve.jpg?download=now\n",
            "[%] File Downloaded !\n",
            "\n",
            "[%] Downloading Image #13 from https://m.media-amazon.com/images/I/51+yfI+0MnS._SL500_.jpg\n",
            "[%] File Downloaded !\n",
            "\n",
            "[%] Downloading Image #14 from https://a.littlebrokenrobots.com/wp-content/uploads/imga-media/17710.jpg\n",
            "[%] File Downloaded !\n",
            "\n",
            "[%] Downloading Image #15 from https://thumbs.dreamstime.com/b/logo-ice-cream-italian-ice-cream-emblem-ice-cream-waffle-cone-letters-circle-vector-logo-ice-cream-italian-ice-245469250.jpg\n",
            "[%] File Downloaded !\n",
            "\n",
            "[%] Downloading Image #16 from https://thumbs.dreamstime.com/b/logo-ice-cream-italian-ice-cream-emblem-ice-cream-waffle-cone-letters-circle-vector-logo-ice-cream-italian-ice-245469235.jpg\n",
            "[%] File Downloaded !\n",
            "\n",
            "[%] Downloading Image #17 from https://img.biggo.com.tw/ssYydD-fNus29DsLU3fKT4EEFxXtibALqsnMDimkkJTw/https://filebroker-cdn.lazada.com.my/kf/S143c843d92444ee1b92b96553184c92da.jpg\n",
            "[%] File Downloaded !\n",
            "\n",
            "[%] Downloading Image #18 from https://i5.walmartimages.com/asr/35273591-7254-41b4-b706-1f8ce40d03d1.9290c7fc67d6c239a89aa49a799820fc.jpeg?odnHeight=612&amp;odnWidth=612&amp;odnBg=FFFFFF\n",
            "[Error]Invalid image, not saving https://i5.walmartimages.com/asr/35273591-7254-41b4-b706-1f8ce40d03d1.9290c7fc67d6c239a89aa49a799820fc.jpeg?odnHeight=612&amp;odnWidth=612&amp;odnBg=FFFFFF\n",
            "\n",
            "[!] Issue getting: https://i5.walmartimages.com/asr/35273591-7254-41b4-b706-1f8ce40d03d1.9290c7fc67d6c239a89aa49a799820fc.jpeg?odnHeight=612&amp;odnWidth=612&amp;odnBg=FFFFFF\n",
            "[!] Error:: Invalid image, not saving https://i5.walmartimages.com/asr/35273591-7254-41b4-b706-1f8ce40d03d1.9290c7fc67d6c239a89aa49a799820fc.jpeg?odnHeight=612&amp;odnWidth=612&amp;odnBg=FFFFFF\n",
            "\n",
            "[%] Downloading Image #18 from https://assets.catawiki.nl/assets/2022/4/4/8/d/1/8d180144-a660-457a-b421-3f88f2900b94.jpg\n",
            "[%] File Downloaded !\n",
            "\n",
            "[%] Downloading Image #19 from https://img.biggo.com.tw/swzxvAwcuPXPlTZ0W-Y_w5MiYtkKwboLBr62A2s0hzI4/https://my-live-01.slatic.net/p/f6107a59dd27fea3ef3b948ff35b576f.jpg\n",
            "[Error]Invalid image, not saving https://img.biggo.com.tw/swzxvAwcuPXPlTZ0W-Y_w5MiYtkKwboLBr62A2s0hzI4/https://my-live-01.slatic.net/p/f6107a59dd27fea3ef3b948ff35b576f.jpg\n",
            "\n",
            "[!] Issue getting: https://img.biggo.com.tw/swzxvAwcuPXPlTZ0W-Y_w5MiYtkKwboLBr62A2s0hzI4/https://my-live-01.slatic.net/p/f6107a59dd27fea3ef3b948ff35b576f.jpg\n",
            "[!] Error:: Invalid image, not saving https://img.biggo.com.tw/swzxvAwcuPXPlTZ0W-Y_w5MiYtkKwboLBr62A2s0hzI4/https://my-live-01.slatic.net/p/f6107a59dd27fea3ef3b948ff35b576f.jpg\n",
            "\n",
            "[%] Downloading Image #19 from https://cdnttapp.t-tapp.com/how-many-calories-in-mcdonalds-cone-ice-cream-.jpg\n",
            "[%] File Downloaded !\n",
            "\n",
            "[%] Downloading Image #20 from https://cdnttapp.t-tapp.com/how-many-calories-in-ice-cream-cone-from-mcdonald-s-.jpg\n",
            "[%] File Downloaded !\n",
            "\n",
            "[%] Downloading Image #21 from https://img1.cgtrader.com/items/3697549/01727fe0dc/ice-cream-on-cone-3d-model-obj-stl-gltf-3mf.jpg\n",
            "[%] File Downloaded !\n",
            "\n",
            "[%] Downloading Image #22 from https://img2.cgtrader.com/items/3697549/52953edca1/ice-cream-on-cone-3d-model-obj-stl-gltf-3mf.jpg\n",
            "[%] File Downloaded !\n",
            "\n",
            "[%] Downloading Image #23 from https://cdn5.vectorstock.com/i/1000x1000/00/54/cone-of-vanilla-ice-cream-gelato-dessert-vector-41980054.jpg\n",
            "[%] File Downloaded !\n",
            "\n",
            "[%] Downloading Image #24 from https://p.turbosquid.com/ts-thumb/qW/gDLJ0X/HB/cone_r5s/png/1629042982/600x600/fit_q87/e171075b50207c4cb46e9647a83a4eae64cc8573/cone_r5s.jpg\n",
            "[Error]Invalid image, not saving https://p.turbosquid.com/ts-thumb/qW/gDLJ0X/HB/cone_r5s/png/1629042982/600x600/fit_q87/e171075b50207c4cb46e9647a83a4eae64cc8573/cone_r5s.jpg\n",
            "\n",
            "[!] Issue getting: https://p.turbosquid.com/ts-thumb/qW/gDLJ0X/HB/cone_r5s/png/1629042982/600x600/fit_q87/e171075b50207c4cb46e9647a83a4eae64cc8573/cone_r5s.jpg\n",
            "[!] Error:: Invalid image, not saving https://p.turbosquid.com/ts-thumb/qW/gDLJ0X/HB/cone_r5s/png/1629042982/600x600/fit_q87/e171075b50207c4cb46e9647a83a4eae64cc8573/cone_r5s.jpg\n",
            "\n",
            "[%] Downloading Image #24 from https://i.pinimg.com/236x/ee/9d/e4/ee9de44409178a447d4308c9a3b9c5dc--ice-cream-cone-cake-love-ice-cream.jpg?nii=t\n",
            "[%] File Downloaded !\n",
            "\n",
            "[%] Downloading Image #25 from https://cdnttapp.t-tapp.com/how-many-calories-is-a-small-ice-cream-cone-.jpg\n",
            "[%] File Downloaded !\n",
            "\n",
            "\n",
            "\n",
            "[!!]Indexing page: 2\n",
            "\n",
            "[%] Indexed 8 Images on Page 2.\n",
            "\n",
            "===============================================\n",
            "\n",
            "[%] Downloading Image #26 from http://lifemadesimplebakes.com/wp-content/uploads/2015/05/Tin-Roof-Ice-Cream-with-Crushed-Waffle-Cone-1-550x825.jpg\n",
            "[%] File Downloaded !\n",
            "\n",
            "[%] Downloading Image #27 from https://www.obnoxiousantiques.com/wp-content/uploads/2013/06/IMG_20130615_111744-600x450.jpg\n",
            "[%] File Downloaded !\n",
            "\n",
            "[%] Downloading Image #28 from http://montreall.com/wp-content/uploads/2017/05/papi-churro-ptit-creux-montreal-ice-cream-5-e1495645007307-1024x1024.jpg\n",
            "[%] File Downloaded !\n",
            "\n",
            "[%] Downloading Image #29 from http://www.sippycupmom.com/wp-content/uploads/2016/07/Very-Cherry-Vanilla-Ice-Cream-Milkshake.jpg\n",
            "[%] File Downloaded !\n",
            "\n",
            "[%] Downloading Image #30 from http://littlefun.org/uploads/5251c46de691b23edeaec58b_736.jpg\n",
            "[%] File Downloaded !\n",
            "\n",
            "\n",
            "\n",
            "[%] Done. Downloaded 30 images.\n"
          ]
        }
      ]
    },
    {
      "cell_type": "code",
      "source": [
        "# -----------PREPROCESSING-------------\n",
        "#  1. Resize\n",
        "#  2. Flatten\n",
        "\n",
        "import os                           # To play with lot of folders\n",
        "import matplotlib.pyplot as plt     # To display the images\n",
        "import numpy as np                  # for numerical computing\n",
        "from skimage.io import imread       # for reading images\n",
        "from skimage.transform import resize # set the images to a specific size\n",
        "\n",
        "target = [] # for output\n",
        "images = [] # for input\n",
        "flat_data = [] # for flatten image\n",
        "\n",
        "DATADIR = '/content/images'\n",
        "CATEGORIES = ['pretty sunflower', 'cricket ball', 'ice cream cone']\n",
        "\n",
        "for category in CATEGORIES:\n",
        "  class_num = CATEGORIES.index(category) # level encoding the values\n",
        "  path = os.path.join(DATADIR,category)  #create path to use all the \n",
        "  for img in os.listdir(path):\n",
        "    img_array = imread(os.path.join(path,img))\n",
        "    # print(img_array.shape)\n",
        "    # plt.imshow(img_array) # use 'break' statement to show single item from the array of items\n",
        "    img_resized = resize(img_array,(150,150,3)) # Normalizes the alue from 0 to 1\n",
        "    flat_data.append(img_resized.flatten())\n",
        "    images.append(img_resized)\n",
        "    target.append(class_num)\n",
        "\n",
        "flat_data = np.array(flat_data)\n",
        "target = np.array(target)\n",
        "images = np.array(images)\n",
        "    "
      ],
      "metadata": {
        "id": "OotEpF2EQwrS"
      },
      "execution_count": 302,
      "outputs": []
    },
    {
      "cell_type": "code",
      "source": [
        "from google.colab import drive\n",
        "drive.mount('/content/drive')"
      ],
      "metadata": {
        "colab": {
          "base_uri": "https://localhost:8080/"
        },
        "id": "4PLnGU9ZQ6Zp",
        "outputId": "b548ee42-e1e1-457a-b80d-3dac20dff74b"
      },
      "execution_count": 303,
      "outputs": [
        {
          "output_type": "stream",
          "name": "stdout",
          "text": [
            "Drive already mounted at /content/drive; to attempt to forcibly remount, call drive.mount(\"/content/drive\", force_remount=True).\n"
          ]
        }
      ]
    },
    {
      "cell_type": "code",
      "source": [
        "len(flat_data[0])"
      ],
      "metadata": {
        "colab": {
          "base_uri": "https://localhost:8080/"
        },
        "id": "_7qN7VJoQ_W3",
        "outputId": "33b3ffb5-8a25-40fa-b04f-5b58c465fe8e"
      },
      "execution_count": 304,
      "outputs": [
        {
          "output_type": "execute_result",
          "data": {
            "text/plain": [
              "67500"
            ]
          },
          "metadata": {},
          "execution_count": 304
        }
      ]
    },
    {
      "cell_type": "code",
      "source": [
        "target"
      ],
      "metadata": {
        "colab": {
          "base_uri": "https://localhost:8080/"
        },
        "id": "8dtwoXDdREWm",
        "outputId": "da46a39b-9562-4e2b-9042-06a8840d48a5"
      },
      "execution_count": 305,
      "outputs": [
        {
          "output_type": "execute_result",
          "data": {
            "text/plain": [
              "array([0, 0, 0, 0, 0, 0, 0, 0, 0, 0, 0, 0, 0, 0, 0, 0, 0, 0, 0, 0, 0, 0,\n",
              "       0, 0, 0, 0, 0, 0, 0, 0, 1, 1, 1, 1, 1, 1, 1, 1, 1, 1, 1, 1, 1, 1,\n",
              "       1, 1, 1, 1, 1, 1, 1, 1, 1, 1, 1, 1, 1, 1, 1, 1, 2, 2, 2, 2, 2, 2,\n",
              "       2, 2, 2, 2, 2, 2, 2, 2, 2, 2, 2, 2, 2, 2, 2, 2, 2, 2, 2, 2, 2, 2,\n",
              "       2, 2])"
            ]
          },
          "metadata": {},
          "execution_count": 305
        }
      ]
    },
    {
      "cell_type": "code",
      "source": [
        "unique,count = np.unique(target,return_counts=True)\n",
        "plt.bar(CATEGORIES,count)"
      ],
      "metadata": {
        "colab": {
          "base_uri": "https://localhost:8080/",
          "height": 282
        },
        "id": "fo2kizEPRJk5",
        "outputId": "242d8b9c-6d0a-47a0-c44e-9c8e7a6a476c"
      },
      "execution_count": 306,
      "outputs": [
        {
          "output_type": "execute_result",
          "data": {
            "text/plain": [
              "<BarContainer object of 3 artists>"
            ]
          },
          "metadata": {},
          "execution_count": 306
        },
        {
          "output_type": "display_data",
          "data": {
            "text/plain": [
              "<Figure size 432x288 with 1 Axes>"
            ],
            "image/png": "[encoded data removed]"
          },
          "metadata": {
            "needs_background": "light"
          }
        }
      ]
    },
    {
      "cell_type": "code",
      "source": [
        "# Split data into Training & Testing\n",
        "\n",
        "from sklearn.model_selection import train_test_split\n",
        "x_train,x_test,y_train,y_test = train_test_split(flat_data,target,test_size=0.3,random_state=100)"
      ],
      "metadata": {
        "id": "dXejUtmTRKxz"
      },
      "execution_count": 328,
      "outputs": []
    },
    {
      "cell_type": "code",
      "source": [
        "# here we choose specific selection model GridSearchCv to use of proper parameter in support vector.\n",
        "\n",
        "from sklearn.model_selection import GridSearchCV\n",
        "from sklearn import svm  # support vector machine\n",
        "\n",
        "param_grid = [\n",
        "              {'C':[10,100,1000],'kernel':['linear']},\n",
        "              {'C':[10,100,1000],'gamma':[0.001,0.0001],'kernel':['rbf']},\n",
        "]\n",
        "\n",
        "svc = svm.SVC(probability=True) # Go for all probable outputs\n",
        "clf = GridSearchCV(svc,param_grid)\n",
        "clf.fit(x_train,y_train)\n"
      ],
      "metadata": {
        "colab": {
          "base_uri": "https://localhost:8080/"
        },
        "id": "9HI8avu-RREx",
        "outputId": "9359d2d0-8148-4a3a-89b5-f6ce2994466d"
      },
      "execution_count": 329,
      "outputs": [
        {
          "output_type": "execute_result",
          "data": {
            "text/plain": [
              "GridSearchCV(estimator=SVC(probability=True),\n",
              "             param_grid=[{'C': [10, 100, 1000], 'kernel': ['linear']},\n",
              "                         {'C': [10, 100, 1000], 'gamma': [0.001, 0.0001],\n",
              "                          'kernel': ['rbf']}])"
            ]
          },
          "metadata": {},
          "execution_count": 329
        }
      ]
    },
    {
      "cell_type": "code",
      "source": [
        "y_pred = clf.predict(x_test) # predicted output\n",
        "y_pred"
      ],
      "metadata": {
        "colab": {
          "base_uri": "https://localhost:8080/"
        },
        "id": "6LngAbVARUG1",
        "outputId": "445fbe53-a98d-4fa9-b69b-3e6252427af8"
      },
      "execution_count": 330,
      "outputs": [
        {
          "output_type": "execute_result",
          "data": {
            "text/plain": [
              "array([2, 2, 0, 0, 2, 1, 2, 1, 0, 2, 2, 0, 0, 2, 0, 1, 1, 2, 2, 2, 0, 0,\n",
              "       0, 2, 1, 0, 0])"
            ]
          },
          "metadata": {},
          "execution_count": 330
        }
      ]
    },
    {
      "cell_type": "code",
      "source": [
        "y_test"
      ],
      "metadata": {
        "colab": {
          "base_uri": "https://localhost:8080/"
        },
        "id": "r9tkOC2bRsW3",
        "outputId": "4dddb209-a2c0-41fa-b78e-acaa46c4cc7c"
      },
      "execution_count": 331,
      "outputs": [
        {
          "output_type": "execute_result",
          "data": {
            "text/plain": [
              "array([1, 2, 0, 0, 1, 1, 1, 1, 0, 2, 0, 1, 0, 2, 0, 2, 1, 2, 2, 2, 0, 0,\n",
              "       0, 0, 1, 0, 0])"
            ]
          },
          "metadata": {},
          "execution_count": 331
        }
      ]
    },
    {
      "cell_type": "code",
      "source": [
        "from sklearn.metrics import accuracy_score,confusion_matrix\n",
        "\n",
        "accuracy_score(y_pred,y_test)"
      ],
      "metadata": {
        "colab": {
          "base_uri": "https://localhost:8080/"
        },
        "id": "6NKrUXHpRvkV",
        "outputId": "95448160-bf11-40f5-c377-09026d0fb04a"
      },
      "execution_count": 332,
      "outputs": [
        {
          "output_type": "execute_result",
          "data": {
            "text/plain": [
              "0.7407407407407407"
            ]
          },
          "metadata": {},
          "execution_count": 332
        }
      ]
    },
    {
      "cell_type": "code",
      "source": [
        "confusion_matrix(y_pred,y_test)"
      ],
      "metadata": {
        "colab": {
          "base_uri": "https://localhost:8080/"
        },
        "id": "7WLnx3sMSOpW",
        "outputId": "b9da547b-4aa8-4594-ef4b-46cb82d7022a"
      },
      "execution_count": 333,
      "outputs": [
        {
          "output_type": "execute_result",
          "data": {
            "text/plain": [
              "array([[10,  1,  0],\n",
              "       [ 0,  4,  1],\n",
              "       [ 2,  3,  6]])"
            ]
          },
          "metadata": {},
          "execution_count": 333
        }
      ]
    },
    {
      "cell_type": "code",
      "source": [
        "# Save the model using Pickle library\n",
        "\n",
        "import pickle\n",
        "pickle.dump(clf,open('img_model.p','wb'))"
      ],
      "metadata": {
        "id": "lJKj99FiWPNH"
      },
      "execution_count": 334,
      "outputs": []
    },
    {
      "cell_type": "code",
      "source": [
        "# load the model which you build\n",
        "\n",
        "model = pickle.load(open('img_model.p','rb'))"
      ],
      "metadata": {
        "id": "69nqIRZ0L1nV"
      },
      "execution_count": 335,
      "outputs": []
    },
    {
      "cell_type": "code",
      "source": [
        "# Testing new images to model prediction\n",
        "\n",
        "flat_data = []\n",
        "url = input('Enter your URL')\n",
        "img = imread(url)\n",
        "img_resized = resize(img,(150,150,3))\n",
        "flat_data.append(img_resized.flatten())\n",
        "flat_data = np.array(flat_data)\n",
        "# print(img.shape)\n",
        "plt.imshow(img_resized)\n",
        "y_out = model.predict(flat_data)\n",
        "y_out = CATEGORIES[y_out[0]]\n",
        "print(f'Predicted Output: {y_out}')\n"
      ],
      "metadata": {
        "colab": {
          "base_uri": "https://localhost:8080/",
          "height": 304
        },
        "id": "Qisydl7rWatd",
        "outputId": "d37417d5-0977-4093-e446-41179733ce47"
      },
      "execution_count": 380,
      "outputs": [
        {
          "output_type": "stream",
          "name": "stdout",
          "text": [
            "Enter your URL/content/ice_main.jpeg\n",
            "Predicted Output: ice cream cone\n"
          ]
        },
        {
          "output_type": "display_data",
          "data": {
            "text/plain": [
              "<Figure size 432x288 with 1 Axes>"
            ],
            "image/png": "[encoded data removed]"
          },
          "metadata": {
            "needs_background": "light"
          }
        }
      ]
    },
    {
      "cell_type": "code",
      "source": [
        "from math import floor\n",
        "q = model.predict_proba(flat_data)\n",
        "for index, item in enumerate(CATEGORIES):\n",
        "  print(f'{item} : {floor(q[0][index]*100)}')"
      ],
      "metadata": {
        "colab": {
          "base_uri": "https://localhost:8080/"
        },
        "id": "BqxyfKFWWhpv",
        "outputId": "b893fbab-ce5f-4c2a-8d33-82c220012494"
      },
      "execution_count": 381,
      "outputs": [
        {
          "output_type": "stream",
          "name": "stdout",
          "text": [
            "pretty sunflower : 10\n",
            "cricket ball : 19\n",
            "ice cream cone : 70\n"
          ]
        }
      ]
    }
  ]
}